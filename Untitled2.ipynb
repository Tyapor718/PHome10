{
  "nbformat": 4,
  "nbformat_minor": 0,
  "metadata": {
    "colab": {
      "provenance": [],
      "authorship_tag": "ABX9TyMcv0hG0rdS9KrTwFwp2Wsw",
      "include_colab_link": true
    },
    "kernelspec": {
      "name": "python3",
      "display_name": "Python 3"
    },
    "language_info": {
      "name": "python"
    }
  },
  "cells": [
    {
      "cell_type": "markdown",
      "metadata": {
        "id": "view-in-github",
        "colab_type": "text"
      },
      "source": [
        "<a href=\"https://colab.research.google.com/github/Tyapor718/PHome10/blob/main/Untitled2.ipynb\" target=\"_parent\"><img src=\"https://colab.research.google.com/assets/colab-badge.svg\" alt=\"Open In Colab\"/></a>"
      ]
    },
    {
      "cell_type": "code",
      "execution_count": null,
      "metadata": {
        "id": "roQu2f8PkPJM"
      },
      "outputs": [],
      "source": []
    },
    {
      "cell_type": "markdown",
      "source": [
        "Задание 44\n",
        "В ячейке ниже представлен код генерирующий DataFrame, которая состоит всего из 1 столбца. Ваша задача перевести его в one hot вид. Сможете ли вы это сделать без get_dummies?"
      ],
      "metadata": {
        "id": "se6KrejbkQJP"
      }
    },
    {
      "cell_type": "code",
      "source": [
        "from numpy.lib.arraysetops import unique\n",
        "import random\n",
        "import pandas as pd\n",
        "lst = ['robot'] * 10\n",
        "lst += ['human'] * 10\n",
        "random.shuffle(lst)\n",
        "print (lst)\n",
        "data = pd.DataFrame({'whoAmI':lst})\n",
        "print (data)\n",
        "unique_value = data ['whoAmI'].unique()\n",
        "one_hot_data = pd.DataFrame()\n",
        "for value in unique_value:\n",
        "  one_hot_data[value]=(data['whoAmI'] == value).astype(int)\n",
        "print (one_hot_data)"
      ],
      "metadata": {
        "colab": {
          "base_uri": "https://localhost:8080/"
        },
        "id": "uYjoq4P2kW31",
        "outputId": "cf524358-e4a3-444f-9d17-8575c03faa39"
      },
      "execution_count": 7,
      "outputs": [
        {
          "output_type": "stream",
          "name": "stdout",
          "text": [
            "['robot', 'robot', 'robot', 'robot', 'human', 'robot', 'human', 'human', 'human', 'robot', 'human', 'robot', 'human', 'robot', 'human', 'human', 'human', 'human', 'robot', 'robot']\n",
            "   whoAmI\n",
            "0   robot\n",
            "1   robot\n",
            "2   robot\n",
            "3   robot\n",
            "4   human\n",
            "5   robot\n",
            "6   human\n",
            "7   human\n",
            "8   human\n",
            "9   robot\n",
            "10  human\n",
            "11  robot\n",
            "12  human\n",
            "13  robot\n",
            "14  human\n",
            "15  human\n",
            "16  human\n",
            "17  human\n",
            "18  robot\n",
            "19  robot\n",
            "    robot  human\n",
            "0       1      0\n",
            "1       1      0\n",
            "2       1      0\n",
            "3       1      0\n",
            "4       0      1\n",
            "5       1      0\n",
            "6       0      1\n",
            "7       0      1\n",
            "8       0      1\n",
            "9       1      0\n",
            "10      0      1\n",
            "11      1      0\n",
            "12      0      1\n",
            "13      1      0\n",
            "14      0      1\n",
            "15      0      1\n",
            "16      0      1\n",
            "17      0      1\n",
            "18      1      0\n",
            "19      1      0\n"
          ]
        }
      ]
    }
  ]
}